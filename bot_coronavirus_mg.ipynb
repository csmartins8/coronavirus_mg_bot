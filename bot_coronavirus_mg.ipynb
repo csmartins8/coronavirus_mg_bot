{
 "cells": [
  {
   "cell_type": "markdown",
   "source": [
    "## Bot Coronavirus-MG (@coronavirus_mg)"
   ],
   "metadata": {}
  },
  {
   "cell_type": "code",
   "execution_count": null,
   "source": [
    "import pandas as pd\r\n",
    "import numpy as np\r\n",
    "from datetime import date\r\n",
    "import datetime\r\n",
    "import wget\r\n",
    "import os\r\n",
    "import time"
   ],
   "outputs": [],
   "metadata": {}
  },
  {
   "cell_type": "markdown",
   "source": [
    "### Data e dia da semana"
   ],
   "metadata": {}
  },
  {
   "cell_type": "code",
   "execution_count": null,
   "source": [
    "data_de_hoje = str(date.today())\r\n",
    "data_de_hoje"
   ],
   "outputs": [],
   "metadata": {}
  },
  {
   "cell_type": "code",
   "execution_count": null,
   "source": [
    "data_de_hoje_texto_padrao_brasil = date.today().strftime('%d/%m/%Y')\r\n",
    "print(data_de_hoje_texto_padrao_brasil)"
   ],
   "outputs": [],
   "metadata": {}
  },
  {
   "cell_type": "code",
   "execution_count": null,
   "source": [
    "dia_semana = pd.Timestamp(data_de_hoje)\r\n",
    "dia_semana_nome = str(dia_semana.day_name())\r\n",
    "dia_semana_numero = str(dia_semana.day)\r\n",
    "\r\n",
    "dia_semana_nome = dia_semana_nome.replace('Saturday', 'este sábado').replace('Sunday', 'este domingo').replace('Monday', 'esta segunda').replace('Tuesday', 'esta terça').replace('Wednesday', 'esta quarta').replace('Thursday', 'esta quinta').replace('Friday', 'esta sexta')\r\n",
    "\r\n",
    "DIA_DA_SEMANA = dia_semana_nome + \" (\" + dia_semana_numero + \")\"\r\n",
    "print('DIA_DA_SEMANA:',DIA_DA_SEMANA)\r\n"
   ],
   "outputs": [],
   "metadata": {}
  },
  {
   "cell_type": "markdown",
   "source": [
    "### Seleção de conteúdo\n",
    "Baixar o arquivo .XLSX Painel no site https://coronavirus.saude.mg.gov.br/painel"
   ],
   "metadata": {}
  },
  {
   "cell_type": "code",
   "execution_count": null,
   "source": [
    "boletim_atualizado = False\r\n",
    "boletim_segue_para_analise = False\r\n",
    "contador_boletim = 1\r\n",
    "\r\n",
    "while boletim_segue_para_analise == False:\r\n",
    "    \r\n",
    "    #baixar o boletim:\r\n",
    "    try: \r\n",
    "        wget.download('http://sescloud.saude.mg.gov.br/index.php/s/ZEzzC8jFpobXGjM/download?path=%2FPAINEL_COVID&files=XLSX_Painel.xlsx', \r\n",
    "                  'boletim.xlsx')\r\n",
    "    except: \r\n",
    "        print(\"Arquivo não localizado. Verificar se não houve mudança de link\")\r\n",
    "\r\n",
    "    \r\n",
    "    #ler o arquivo:\r\n",
    "    abas = pd.ExcelFile('boletim.xlsx')\r\n",
    "    confirmados = pd.read_excel(abas, 'CONFIRMADOS')\r\n",
    "    obitos = pd.read_excel(abas, 'OBITOS')\r\n",
    "    recuperados = pd.read_excel(abas, 'RECUPERADOS')\r\n",
    "    \r\n",
    "    #ver a ultima data de atualização das abas fundamentais\r\n",
    "    #checar se o arquivo está atualizado com os dados de hoje:\r\n",
    "    data_boletim_ok = None\r\n",
    "    if datetime.datetime.date(confirmados['DATA'].max()) == datetime.date.today() or datetime.datetime.date(obitos['DATA'].max()) == datetime.date.today(): \r\n",
    "        data_boletim_ok = True\r\n",
    "    else: \r\n",
    "        data_boletim_ok = False\r\n",
    "    \r\n",
    "    #Se estiver atualizada, quebra o while e segue o baile\r\n",
    "    if data_boletim_ok == True:\r\n",
    "        print('\\nArquivo do boletim está atualizado. Pode seguir para a análise.\\n')\r\n",
    "        boletim_atualizado = True \r\n",
    "        boletim_segue_para_analise = True\r\n",
    "    \r\n",
    "    #Se não estiver atualizado, apaga o arquivo e refaz o processo 10 vezes dando um intervalo de 20 minutos entre as tentativas\r\n",
    "    else: \r\n",
    "        if contador_boletim < 10:\r\n",
    "            os.remove('boletim.xlsx')\r\n",
    "            print(f'\\nTentativa {contador_boletim} fracassada. Tentar novamente em 20 minutos.\\n') \r\n",
    "            contador_boletim += 1 \r\n",
    "            time.sleep(1200)\r\n",
    "    #Se não estiver atualizado e falhar as 10 vezes, avisa que não atualizou e segue\r\n",
    "    #Na hora de tuitar, se o arquivo do boletim não estiver atualizado, vai tuitar uma mensagem de erro\r\n",
    "        else: \r\n",
    "            print('\\nO arquivo não foi atualizado, mas a vida precisa seguir adiante\\n')\r\n",
    "            boletim_atualizado = False\r\n",
    "            boletim_segue_para_analise = True"
   ],
   "outputs": [],
   "metadata": {}
  },
  {
   "cell_type": "markdown",
   "source": [
    "Antes de mais nada, limpar os códigos dos municípios porque eles chegam sem padrão (float, int, str). \r\n",
    "Datas já foram carregadas como Datetime e não será necessário fazer essa conversão"
   ],
   "metadata": {}
  },
  {
   "cell_type": "code",
   "execution_count": null,
   "source": [
    "confirmados['CodigoIBGE'] = confirmados['CodigoIBGE'].values.astype(int).astype(str)\r\n",
    "obitos['CodigoIBGE'] = obitos['CodigoIBGE'].values.astype(int).astype(str)\r\n",
    "recuperados['CodigoIBGE'] = recuperados['CodigoIBGE'].values.astype(int).astype(str)"
   ],
   "outputs": [],
   "metadata": {}
  },
  {
   "cell_type": "markdown",
   "source": [
    "### Casos Confirmados"
   ],
   "metadata": {}
  },
  {
   "cell_type": "markdown",
   "source": [
    "1 - Criar uma tabela cruzada de casos confirmados por data, equivalente aos casos das últimas 24h <br>\r\n",
    "2 - Criar uma coluna com a soma acumulada<br>\r\n",
    "3 - Criar uma coluna de média móvel<br>"
   ],
   "metadata": {}
  },
  {
   "cell_type": "code",
   "execution_count": null,
   "source": [
    "#1\r\n",
    "tabela_confirmados = confirmados.groupby(by=['DATA'], as_index=False)['NUM_CASOS'].agg(['sum'])\r\n",
    "tabela_confirmados.rename(columns = {'sum' : 'casos_dia'}, inplace = True)\r\n",
    "\r\n",
    "#2\r\n",
    "tabela_confirmados['soma_acumulada'] = tabela_confirmados['casos_dia'].cumsum()\r\n",
    "\r\n",
    "#3\r\n",
    "tabela_confirmados['media_movel'] = tabela_confirmados['casos_dia'].rolling(7).mean().round(1)\r\n",
    "\r\n",
    "tabela_confirmados.tail(7)"
   ],
   "outputs": [],
   "metadata": {}
  },
  {
   "cell_type": "markdown",
   "source": [
    "Extrair os valores do boletim diário e guardá-los em variáveis.<br>\n",
    "casos_24h = casos confirmados a mais no boletim de hoje<br>\n",
    "casos_total = total de casos confirmados até o momento<br>\n",
    "casos_media = média móvel de casos confirmados nos últimos sete dias<br>\n",
    "casos_media_anterior = média móvel de casos confirmados há duas semanas, para comparação da evolução<br>\n",
    "casos_var = a variação percentual da média móvel nas últimas duas semanas<br>\n",
    "casos_var_status = status da variação (em alta, estável ou em queda)"
   ],
   "metadata": {}
  },
  {
   "cell_type": "code",
   "execution_count": null,
   "source": [
    "casos_24h = tabela_confirmados.iloc[-1,0]\r\n",
    "casos_total = tabela_confirmados.iloc[-1,1]\r\n",
    "casos_media = tabela_confirmados.iloc[-1,2]\r\n",
    "casos_media_anterior = tabela_confirmados.iloc[-15,2]\r\n",
    "casos_var = ((casos_media - casos_media_anterior) / casos_media_anterior) * 100\r\n",
    "\r\n",
    "casos_var_status = 0\r\n",
    "if casos_var >= 15:\r\n",
    "    casos_var_status = 'com tendência recente de alta'\r\n",
    "elif casos_var <= -15:\r\n",
    "    casos_var_status = 'com tendência recente de queda'\r\n",
    "else: \r\n",
    "    casos_var_status = 'com tendência recente de estabilidade'"
   ],
   "outputs": [],
   "metadata": {}
  },
  {
   "cell_type": "markdown",
   "source": [
    "Padronizar as variáveis em texto no formato padrão (separador de milhar e decimal, percentual, etc).\r\n",
    "Guardá-las em novas variáveis (CAIXA ALTA)) que serão utilizadas mais à frente nos templates de texto"
   ],
   "metadata": {}
  },
  {
   "cell_type": "code",
   "execution_count": null,
   "source": [
    "CASOS_24H = str('{0:,}'.format(casos_24h).replace(',','.'))\r\n",
    "print('CASOS_24H:',CASOS_24H)\r\n",
    "\r\n",
    "CASOS_TOTAL = str('{0:,}'.format(casos_total).replace(',','.'))\r\n",
    "print('CASOS_TOTAL:',CASOS_TOTAL)\r\n",
    "\r\n",
    "CASOS_MEDIA = str('{0:,}'.format((casos_media.round()).astype(int)).replace(',','.'))\r\n",
    "print('CASOS_MEDIA:',CASOS_MEDIA)\r\n",
    "\r\n",
    "CASOS_MEDIA_ANTERIOR = str('{0:,}'.format((casos_media_anterior.round()).astype(int)).replace(',','.'))\r\n",
    "print('CASOS_MEDIA_ANTERIOR:',CASOS_MEDIA_ANTERIOR)\r\n",
    "\r\n",
    "CASOS_VAR = casos_var.round(1).astype(str).replace('.',',')+'%'\r\n",
    "print('CASOS_VAR:',CASOS_VAR)\r\n",
    "\r\n",
    "CASOS_VAR_STATUS = casos_var_status\r\n",
    "print('CASOS_VAR_STATUS:',CASOS_VAR_STATUS)"
   ],
   "outputs": [],
   "metadata": {}
  },
  {
   "cell_type": "markdown",
   "source": [
    "#### Criar o gráfico da média móvel de casos"
   ],
   "metadata": {}
  },
  {
   "cell_type": "code",
   "execution_count": null,
   "source": [
    "import matplotlib.pyplot as plt\r\n",
    "plt.style.use('seaborn')"
   ],
   "outputs": [],
   "metadata": {}
  },
  {
   "cell_type": "code",
   "execution_count": null,
   "source": [
    "cor_casos = 'x'\r\n",
    "\r\n",
    "if casos_var >= 15:\r\n",
    "    cor_casos = 'red'\r\n",
    "elif casos_var <= -15:\r\n",
    "    cor_casos = 'darkgreen'\r\n",
    "else: \r\n",
    "    cor_casos = 'chocolate'"
   ],
   "outputs": [],
   "metadata": {}
  },
  {
   "cell_type": "code",
   "execution_count": null,
   "source": [
    "fig, ax = plt.subplots()\r\n",
    "\r\n",
    "ax.set_title(\"CASOS CONFIRMADOS DE COVID-19 EM MINAS GERAIS\\n(média móvel de sete dias, por data de confimação)\")\r\n",
    "\r\n",
    "ax.plot(tabela_confirmados.index,\r\n",
    "        tabela_confirmados['media_movel'], \r\n",
    "        color='#41869f', \r\n",
    "        alpha=1)\r\n",
    "\r\n",
    "ax.bar(tabela_confirmados.index,\r\n",
    "       tabela_confirmados['casos_dia'],\r\n",
    "       color='#41869f', \r\n",
    "       alpha=0.3)\r\n",
    "\r\n",
    "ax.set_ylim(0, tabela_confirmados['casos_dia'].max())\r\n",
    "ax.set_xlim(left=tabela_confirmados.index.min())\r\n",
    "\r\n",
    "ax.set_ylabel(\"Novos casos\")\r\n",
    "ax.set_xlabel(\"\\nFonte: SES-MG/Prefeituras  •  Análise: Cristiano Martins/@coronavirus_mg\", color='grey', size=10)\r\n",
    "\r\n",
    "ax.annotate('      '+CASOS_MEDIA, \r\n",
    "            xy = (pd.Timestamp(date.today()), casos_media+300),\r\n",
    "            size = 16,\r\n",
    "            weight=\"bold\")\r\n",
    " \r\n",
    "ax.annotate('        '+CASOS_VAR, \r\n",
    "            xy = (pd.Timestamp(date.today()), casos_media-800),\r\n",
    "            color = cor_casos,\r\n",
    "            size = 13)\r\n",
    "\r\n",
    "ax.axhline(y = casos_media, color = 'grey', linestyle = 'dotted')\r\n",
    "ax.axhline(y = 0, color = 'grey', linestyle = '-')\r\n",
    "\r\n",
    "#ax.text(0.5, -0.15, 'Fonte: Prefeituras/SES-MG. Análise: Cristiano Martins / @coronavirus_mg', color='grey', size=11, horizontalalignment='center', verticalalignment='center', transform=ax.transAxes)\r\n",
    "\r\n",
    "fig.set_size_inches([16/2,9/2])\r\n",
    "\r\n",
    "fig.savefig('grafico_media_casos.png', dpi = 300)"
   ],
   "outputs": [],
   "metadata": {}
  },
  {
   "cell_type": "markdown",
   "source": [
    "### Óbitos Confirmados"
   ],
   "metadata": {}
  },
  {
   "cell_type": "markdown",
   "source": [
    "1 - Criar uma tabela cruzada de óbitos confirmados por data, equivalente aos óbitos das últimas 24h <br>\r\n",
    "2 - Criar uma coluna com a soma acumulada <br>\r\n",
    "3 - Criar uma coluna de média móvel <br>"
   ],
   "metadata": {}
  },
  {
   "cell_type": "code",
   "execution_count": null,
   "source": [
    "#1\r\n",
    "tabela_obitos = obitos.groupby(by=['DATA'], as_index=False)['NUM_OBITOS'].agg(['sum'])\r\n",
    "tabela_obitos.rename(columns = {'sum' : 'obitos_dia'}, inplace = True)\r\n",
    "\r\n",
    "#2\r\n",
    "tabela_obitos['soma_acumulada_obitos'] = tabela_obitos['obitos_dia'].cumsum()\r\n",
    "\r\n",
    "#3\r\n",
    "tabela_obitos['media_movel_obitos'] = tabela_obitos['obitos_dia'].rolling(7).mean().round(1)\r\n",
    "\r\n",
    "tabela_obitos.tail(7)"
   ],
   "outputs": [],
   "metadata": {}
  },
  {
   "cell_type": "markdown",
   "source": [
    "Extrair os valores do boletim diário e guardá-los em variáveis.<br>\n",
    "obitos_24h = obitos confirmados a mais no boletim de hoje<br>\n",
    "obitos_total = total de obitos confirmados até o momento<br>\n",
    "obitos_media = média móvel de obitos confirmados nos últimos sete dias<br>\n",
    "obitos_media_anterior = média móvel de obitos confirmados há duas semanas, para comparação da evolução<br>\n",
    "obitos_var = a variação percentual da média móvel dos obitos nas últimas duas semanas<br>\n",
    "obitos_var_status = status da variação dos obitos (em alta, estável ou em queda)"
   ],
   "metadata": {}
  },
  {
   "cell_type": "code",
   "execution_count": null,
   "source": [
    "obitos_24h = tabela_obitos.iloc[-1,0]\r\n",
    "obitos_total = tabela_obitos.iloc[-1,1]\r\n",
    "obitos_media = tabela_obitos.iloc[-1,2]\r\n",
    "obitos_media_anterior = tabela_obitos.iloc[-15,2]\r\n",
    "obitos_var = ((obitos_media - obitos_media_anterior) / obitos_media_anterior) * 100\r\n",
    "\r\n",
    "obitos_var_status = 0\r\n",
    "if obitos_var >= 15:\r\n",
    "    obitos_var_status = 'com tendência recente de alta'\r\n",
    "elif obitos_var <= -15:\r\n",
    "    obitos_var_status = 'com tendência recente de queda'\r\n",
    "else: \r\n",
    "    obitos_var_status = 'com tendência recente de estabilidade'"
   ],
   "outputs": [],
   "metadata": {}
  },
  {
   "cell_type": "markdown",
   "source": [
    "Padronizar as variáveis no formato separado por milhar e decimal. Guardá-las em novas variáveis em caixa alta que serão utilizadas mais à frente nos templates de texto"
   ],
   "metadata": {}
  },
  {
   "cell_type": "code",
   "execution_count": null,
   "source": [
    "OBITOS_24H = str('{0:,}'.format(obitos_24h).replace(',','.'))\r\n",
    "print('OBITOS_24H:',OBITOS_24H)\r\n",
    "\r\n",
    "OBITOS_TOTAL = str('{0:,}'.format(obitos_total).replace(',','.'))\r\n",
    "print('OBITOS_TOTAL:',OBITOS_TOTAL)\r\n",
    "\r\n",
    "OBITOS_MEDIA = str('{0:,}'.format((obitos_media.round()).astype(int)).replace(',','.'))\r\n",
    "print('OBITOS_MEDIA:',OBITOS_MEDIA)\r\n",
    "\r\n",
    "OBITOS_MEDIA_ANTERIOR = str('{0:,}'.format((obitos_media_anterior.round()).astype(int)).replace(',','.'))\r\n",
    "print('OBITOS_MEDIA_ANTERIOR:',OBITOS_MEDIA_ANTERIOR)\r\n",
    "\r\n",
    "OBITOS_VAR = obitos_var.round(1).astype(str).replace('.',',')+'%'\r\n",
    "print('OBITOS_VAR:',OBITOS_VAR)\r\n",
    "\r\n",
    "OBITOS_VAR_STATUS = obitos_var_status\r\n",
    "print('OBITOS_VAR_STATUS:',OBITOS_VAR_STATUS)"
   ],
   "outputs": [],
   "metadata": {}
  },
  {
   "cell_type": "markdown",
   "source": [
    "#### Criar o gráfico da média móvel de óbitos"
   ],
   "metadata": {}
  },
  {
   "cell_type": "code",
   "execution_count": null,
   "source": [
    "cor_obitos = 'z'\r\n",
    "\r\n",
    "if obitos_var >= 15: \r\n",
    "    cor_obitos = 'red'\r\n",
    "elif obitos_var <= -15: \r\n",
    "    cor_obitos = 'darkgreen'\r\n",
    "else: \r\n",
    "    cor_obitos = 'chocolate'"
   ],
   "outputs": [],
   "metadata": {}
  },
  {
   "cell_type": "code",
   "execution_count": null,
   "source": [
    "fig, ax = plt.subplots()\r\n",
    "\r\n",
    "ax.set_title(\"MORTES CONFIRMADAS POR COVID-19 EM MINAS GERAIS\\n(média móvel de sete dias, por data de confimação)\")\r\n",
    "\r\n",
    "ax.plot(tabela_obitos.index,\r\n",
    "        tabela_obitos['media_movel_obitos'], \r\n",
    "        color='#825218', \r\n",
    "        alpha=1)\r\n",
    "\r\n",
    "ax.bar(tabela_obitos.index,\r\n",
    "       tabela_obitos['obitos_dia'],\r\n",
    "       color='#825218', \r\n",
    "       alpha=.3)\r\n",
    "\r\n",
    "ax.set_ylim(0, tabela_obitos['obitos_dia'].max())\r\n",
    "ax.set_xlim(left=tabela_obitos.index.min())\r\n",
    "\r\n",
    "\r\n",
    "ax.set_ylabel(\"Novas mortes\")\r\n",
    "ax.set_xlabel(\"\\nFonte: SES-MG/Prefeituras  •  Análise: Cristiano Martins/@coronavirus_mg\", color='grey', size=10)\r\n",
    "\r\n",
    "ax.annotate('       '+OBITOS_MEDIA, \r\n",
    "            xy = (pd.Timestamp(date.today()), obitos_media + 5),\r\n",
    "            size = 16,\r\n",
    "            weight ='bold')\r\n",
    "\r\n",
    "ax.annotate('       '+OBITOS_VAR, \r\n",
    "            xy = (pd.Timestamp(date.today()), obitos_media - 30),#-1300),\r\n",
    "            size = 13, \r\n",
    "            color = cor_obitos)\r\n",
    "\r\n",
    "ax.axhline(y = obitos_media, color = 'grey', linestyle = 'dotted')\r\n",
    "ax.axhline(y = 0, color = 'grey', linestyle = '-')\r\n",
    "\r\n",
    "#ax.text(0.5, -0.15, 'Fonte: SES-MG. Análise: Cristiano Martins / @coronavirus_mg', color='grey', size=11, horizontalalignment='center', verticalalignment='center', transform=ax.transAxes)\r\n",
    "\r\n",
    "fig.set_size_inches([16/2,9/2])\r\n",
    "\r\n",
    "fig.savefig('grafico_media_obitos.png', dpi = 300)"
   ],
   "outputs": [],
   "metadata": {}
  },
  {
   "cell_type": "markdown",
   "source": [
    "### Casos Recuperados, casos ativos e letalidade\r\n",
    "### OBS: Diferentemente dos casos e óbitos, a aba de casos recuperados informa sempre o total acumulado até o determinado dia."
   ],
   "metadata": {}
  },
  {
   "cell_type": "markdown",
   "source": [
    "### Criar tabela agrupada por data"
   ],
   "metadata": {}
  },
  {
   "cell_type": "code",
   "execution_count": null,
   "source": [
    "tabela_recuperados = recuperados.groupby(by=['DATA'], as_index=False)['NUM_RECUPERADOS'].agg(['sum'])\r\n",
    "tabela_recuperados.rename(columns = {'sum' : 'recuperados_total'}, inplace = True)\r\n",
    "\r\n",
    "tabela_recuperados.tail(7)"
   ],
   "outputs": [],
   "metadata": {}
  },
  {
   "cell_type": "markdown",
   "source": [
    "### recuperados_total = total acumulado de casos recuperados até a data\r\n",
    "### recuperados_24h = total acumulado de casos recuperados a mais neste boletim"
   ],
   "metadata": {}
  },
  {
   "cell_type": "code",
   "execution_count": null,
   "source": [
    "recuperados_total = tabela_recuperados.iloc[-1,0]\r\n"
   ],
   "outputs": [],
   "metadata": {}
  },
  {
   "cell_type": "markdown",
   "source": [
    "### formatar para o texto e salvar na variável em caixa alta"
   ],
   "metadata": {}
  },
  {
   "cell_type": "code",
   "execution_count": null,
   "source": [
    "RECUPERADOS_TOTAL = str('{0:,}'.format(recuperados_total).replace(',','.'))\r\n",
    "print('RECUPERADOS_TOTAL:',RECUPERADOS_TOTAL)"
   ],
   "outputs": [],
   "metadata": {}
  },
  {
   "cell_type": "markdown",
   "source": [
    "### Calcular a letalidade, isto é, a taxa proporcional de óbitos entre os casos confirmados"
   ],
   "metadata": {}
  },
  {
   "cell_type": "code",
   "execution_count": null,
   "source": [
    "letalidade = ((obitos_total * 100)/casos_total).round(1)\r\n",
    "LETALIDADE = str('{0:,}'.format(letalidade).replace('.',',')) + '%'\r\n",
    "print('LETALIDADE:',LETALIDADE)"
   ],
   "outputs": [],
   "metadata": {}
  },
  {
   "cell_type": "markdown",
   "source": [
    "### Casos ativos\n",
    "##### criar série temporal de casos ativos a partir dos dados previamente tratados (total de casos menos óbitos e recuperados)"
   ],
   "metadata": {}
  },
  {
   "cell_type": "code",
   "execution_count": null,
   "source": [
    "#join das colunas já existentes pela data\r\n",
    "tabela_ativos = tabela_confirmados.merge(tabela_obitos, how='inner', on='DATA')\r\n",
    "tabela_ativos = tabela_ativos.merge(tabela_recuperados, how='inner', on='DATA')\r\n",
    "\r\n",
    "#excluir colunas que não interessam aqui\r\n",
    "tabela_ativos.drop(labels=['casos_dia','media_movel','obitos_dia','media_movel_obitos'], axis=1, inplace=True)\r\n",
    "\r\n",
    "#calcular nova coluna 'ativos' a partir da subtratação do total\r\n",
    "tabela_ativos['ativos'] = tabela_ativos['soma_acumulada'] - tabela_ativos['soma_acumulada_obitos'] - tabela_ativos['recuperados_total']\r\n",
    "\r\n",
    "tabela_ativos.tail(7)"
   ],
   "outputs": [],
   "metadata": {}
  },
  {
   "cell_type": "code",
   "execution_count": null,
   "source": [],
   "outputs": [],
   "metadata": {}
  },
  {
   "cell_type": "code",
   "execution_count": null,
   "source": [
    "ativos_atual = tabela_ativos.iloc[-1,-1]"
   ],
   "outputs": [],
   "metadata": {}
  },
  {
   "cell_type": "code",
   "execution_count": null,
   "source": [
    "ATIVOS_ATUAL = str('{0:,}'.format(ativos_atual).replace(',','.'))\r\n",
    "print('ATIVOS_ATUAL:',ATIVOS_ATUAL)"
   ],
   "outputs": [],
   "metadata": {}
  },
  {
   "cell_type": "markdown",
   "source": [
    "#### Gráfico de casos ativos"
   ],
   "metadata": {}
  },
  {
   "cell_type": "code",
   "execution_count": null,
   "source": [
    "fig, ax = plt.subplots()\r\n",
    "\r\n",
    "ax.set_title(\"CASOS ATIVOS DE COVID-19 EM MINAS GERAIS\\n(internados ou em acompanhamento)\")\r\n",
    "\r\n",
    "ax.plot(tabela_ativos.index,\r\n",
    "        tabela_ativos['ativos'], \r\n",
    "        color='olive', \r\n",
    "        alpha=1)\r\n",
    "\r\n",
    "ax.fill_between(tabela_ativos.index,\r\n",
    "       tabela_ativos['ativos'],\r\n",
    "       color='olive', \r\n",
    "       alpha=.3)\r\n",
    "\r\n",
    "ax.set_ylim(0, tabela_ativos['ativos'].max()+40000)\r\n",
    "ax.set_ylabel(\"Casos ativos\")\r\n",
    "ax.set_xlabel(\"\\nFonte: SES-MG/Prefeituras  •  Análise: Cristiano Martins/@coronavirus_mg\", color='grey', size=10)\r\n",
    "\r\n",
    "ax.annotate('      '+ATIVOS_ATUAL, \r\n",
    "            xy = (pd.Timestamp(date.today()), ativos_atual-2000),\r\n",
    "            size = 16,\r\n",
    "            weight ='bold')\r\n",
    "\r\n",
    "#ax.annotate('        '+OBITOS_VAR, \r\n",
    "#            xy = (pd.Timestamp(date.today()), obitos_media - 30),#-1300),\r\n",
    "#            size = 13, \r\n",
    "#            color = cor_obitos)\r\n",
    "\r\n",
    "ax.axhline(y = ativos_atual, color = 'grey', linestyle = 'dotted')\r\n",
    "ax.axhline(y = 0, color = 'grey', linestyle = '-')\r\n",
    "\r\n",
    "#ax.text(0.5, -0.15, 'Fonte: SES-MG. Análise: Cristiano Martins / @coronavirus_mg', color='grey', size=11, horizontalalignment='center', verticalalignment='center', transform=ax.transAxes)\r\n",
    "\r\n",
    "fig.set_size_inches([16/2,9/2])\r\n",
    "\r\n",
    "fig.savefig('grafico_ativos.png', dpi = 300)"
   ],
   "outputs": [],
   "metadata": {}
  },
  {
   "cell_type": "markdown",
   "source": [
    "## Dados do Sivep de Internados\n",
    "#### Baixar os dados do sistema sivep-gripe para analisar internações e letalidade entre os pacientes que desenvolveram SRAG por Covid-19"
   ],
   "metadata": {}
  },
  {
   "cell_type": "code",
   "execution_count": null,
   "source": [
    "try: \r\n",
    "    url2 = 'http://sescloud.saude.mg.gov.br/index.php/s/ZEzzC8jFpobXGjM/download?path=%2FSISTEMAS&files=XLSX_Sistemas.xlsx' \r\n",
    "    arquivo2 = 'sivep_mg.xlsx'\r\n",
    "    wget.download(url2, arquivo2)\r\n",
    "except:\r\n",
    "    print(\"Arquivo não encontrado. Favor verificar se não houve troca de link.\")"
   ],
   "outputs": [],
   "metadata": {}
  },
  {
   "cell_type": "code",
   "execution_count": null,
   "source": [
    "sivep_mg = pd.read_excel('sivep_mg.xlsx')"
   ],
   "outputs": [],
   "metadata": {}
  },
  {
   "cell_type": "markdown",
   "source": [
    "#### 1) Filtrar apenas casos internados de srag confirmada por covid"
   ],
   "metadata": {}
  },
  {
   "cell_type": "code",
   "execution_count": null,
   "source": [
    "internados = sivep_mg[sivep_mg['INTERNACAO'] == 'SIM'].copy(deep=True)"
   ],
   "outputs": [],
   "metadata": {}
  },
  {
   "cell_type": "code",
   "execution_count": null,
   "source": [
    "internados_total = internados.shape[0]\r\n",
    "INTERNADOS_TOTAL = str('{0:,}'.format(internados_total).replace(',','.'))\r\n",
    "print('INTERNADOS_TOTAL:',INTERNADOS_TOTAL)"
   ],
   "outputs": [],
   "metadata": {}
  },
  {
   "cell_type": "markdown",
   "source": [
    "##### Verificar a proporção de óbitos entre os internados"
   ],
   "metadata": {}
  },
  {
   "cell_type": "code",
   "execution_count": null,
   "source": [
    "tabela_internados_obitos = internados.groupby(by=['EVOLUCAO'])['EVOLUCAO'].agg(['count'])\r\n",
    "tabela_internados_obitos"
   ],
   "outputs": [],
   "metadata": {}
  },
  {
   "cell_type": "code",
   "execution_count": null,
   "source": [
    "internados_obitos = tabela_internados_obitos.iloc[1,0]\r\n",
    "INTERNADOS_OBITOS = str('{0:,}'.format(internados_obitos).replace(',','.'))\r\n",
    "print('INTERNADOS_OBITOS:',INTERNADOS_OBITOS)"
   ],
   "outputs": [],
   "metadata": {}
  },
  {
   "cell_type": "code",
   "execution_count": null,
   "source": [
    "letalidade_internados = (internados_obitos*100)/internados_total\r\n",
    "LETALIDADE_INTERNADOS = letalidade_internados.round(1).astype(str).replace('.',',')+'%'\r\n",
    "print('LETALIDADE_INTERNADOS:',LETALIDADE_INTERNADOS)"
   ],
   "outputs": [],
   "metadata": {}
  },
  {
   "cell_type": "markdown",
   "source": [
    "#### 2) Filtrar apenas casos internados de srag confirmada por covid em **UTIs**"
   ],
   "metadata": {}
  },
  {
   "cell_type": "code",
   "execution_count": null,
   "source": [
    "internados_UTI = sivep_mg[sivep_mg['UTI'] == 'SIM']"
   ],
   "outputs": [],
   "metadata": {}
  },
  {
   "cell_type": "code",
   "execution_count": null,
   "source": [
    "internados_UTI_total = internados_UTI.shape[0]\r\n",
    "INTERNADOS_UTI_TOTAL = str('{0:,}'.format(internados_UTI_total).replace(',','.'))\r\n",
    "print('INTERNADOS_UTI_TOTAL:',INTERNADOS_UTI_TOTAL)"
   ],
   "outputs": [],
   "metadata": {}
  },
  {
   "cell_type": "markdown",
   "source": [
    "##### Verificar a proporção de óbitos entre os internados em UTIs"
   ],
   "metadata": {}
  },
  {
   "cell_type": "code",
   "execution_count": null,
   "source": [
    "tabela_internados_UTI_obitos = internados_UTI.groupby(by=['EVOLUCAO'])['EVOLUCAO'].agg(['count'])\r\n",
    "tabela_internados_UTI_obitos"
   ],
   "outputs": [],
   "metadata": {}
  },
  {
   "cell_type": "code",
   "execution_count": null,
   "source": [
    "internados_UTI_obitos = tabela_internados_UTI_obitos.iloc[1,0]\r\n",
    "INTERNADOS_UTI_OBITOS = str('{0:,}'.format(internados_UTI_obitos).replace(',','.'))\r\n",
    "print('INTERNADOS_UTI_OBITOS:',INTERNADOS_UTI_OBITOS)"
   ],
   "outputs": [],
   "metadata": {}
  },
  {
   "cell_type": "code",
   "execution_count": null,
   "source": [
    "letalidade_internados_UTI = (internados_UTI_obitos*100)/internados_UTI_total\r\n",
    "LETALIDADE_INTERNADOS_UTI = letalidade_internados_UTI.round(1).astype(str).replace('.',',')+'%'\r\n",
    "print('LETALIDADE_INTERNADOS_UTI:',LETALIDADE_INTERNADOS_UTI)"
   ],
   "outputs": [],
   "metadata": {}
  },
  {
   "cell_type": "markdown",
   "source": [
    "#### Gráfico da série temporal de internações"
   ],
   "metadata": {}
  },
  {
   "cell_type": "code",
   "execution_count": null,
   "source": [
    "internados['data_not'] = pd.to_datetime(internados['DATA_NOTIFICACAO'], format= \"%d/%m/%Y\")\r\n",
    "internados['data_evol'] = pd.to_datetime(internados['DATA_EVOLUCAO'], format= \"%d/%m/%Y\")\r\n",
    "internados['data_sint'] = pd.to_datetime(internados['DATA_1_SINTOMA'], format= \"%d/%m/%Y\")"
   ],
   "outputs": [],
   "metadata": {}
  },
  {
   "cell_type": "code",
   "execution_count": null,
   "source": [
    "internados_datas = internados[(internados['data_sint'] >= '2020-03-08') & (internados['data_sint'] <= data_de_hoje)]"
   ],
   "outputs": [],
   "metadata": {}
  },
  {
   "cell_type": "code",
   "execution_count": null,
   "source": [
    "#1\r\n",
    "tabela_internados_datas = internados_datas.groupby(by=['data_sint'], as_index=False)['data_sint'].agg(['count']).reset_index()\r\n",
    "\r\n",
    "tabela_internados_datas.rename(columns = {'count' : 'internados_dia'}, inplace = True)\r\n",
    "\r\n",
    "#2\r\n",
    "tabela_internados_datas['soma_acumulada_internados'] = tabela_internados_datas['internados_dia'].cumsum()\r\n",
    "\r\n",
    "#3\r\n",
    "tabela_internados_datas['media_movel_internados'] = tabela_internados_datas['internados_dia'].rolling(7).mean().round(1)"
   ],
   "outputs": [],
   "metadata": {}
  },
  {
   "cell_type": "code",
   "execution_count": null,
   "source": [
    "tabela_internados_datas.tail()"
   ],
   "outputs": [],
   "metadata": {}
  },
  {
   "cell_type": "code",
   "execution_count": null,
   "source": [
    "internados_data_recente = tabela_internados_datas.iloc[-1,0]\r\n",
    "internados_data_recente"
   ],
   "outputs": [],
   "metadata": {}
  },
  {
   "cell_type": "code",
   "execution_count": null,
   "source": [
    "import datetime\r\n",
    "data_tres_semanas_atras = internados_data_recente - datetime.timedelta(days=21)\r\n",
    "data_tres_semanas_atras"
   ],
   "outputs": [],
   "metadata": {}
  },
  {
   "cell_type": "markdown",
   "source": [
    "#### Gráficos da média móvel de internações"
   ],
   "metadata": {}
  },
  {
   "cell_type": "code",
   "execution_count": null,
   "source": [
    "tabela_incompleta_tres_semanas = tabela_internados_datas.copy(deep=True)"
   ],
   "outputs": [],
   "metadata": {}
  },
  {
   "cell_type": "code",
   "execution_count": null,
   "source": [
    "tabela_incompleta_tres_semanas.iloc[-21:,-1] = None\r\n",
    "tabela_incompleta_tres_semanas.iloc[-21:,1] = None"
   ],
   "outputs": [],
   "metadata": {}
  },
  {
   "cell_type": "code",
   "execution_count": null,
   "source": [
    "tabela_incompleta_tres_semanas.tail(22)"
   ],
   "outputs": [],
   "metadata": {}
  },
  {
   "cell_type": "code",
   "execution_count": null,
   "source": [
    "internados_media21 = tabela_incompleta_tres_semanas.iloc[-22,-1]\r\n",
    "internados_media21"
   ],
   "outputs": [],
   "metadata": {}
  },
  {
   "cell_type": "code",
   "execution_count": null,
   "source": [
    "INTERNADOS_MEDIA21 = str('{0:,}'.format((internados_media21.round()).astype(int)).replace(',','.'))\r\n",
    "print('INTERNADOS_MEDIA21:',INTERNADOS_MEDIA21)"
   ],
   "outputs": [],
   "metadata": {}
  },
  {
   "cell_type": "code",
   "execution_count": null,
   "source": [
    "fig, ax = plt.subplots()\r\n",
    "\r\n",
    "#cinza por baixo dados completos\r\n",
    "\r\n",
    "ax.plot(tabela_internados_datas['data_sint'],\r\n",
    "        tabela_internados_datas['media_movel_internados'],\r\n",
    "        color='dimgrey',\r\n",
    "        alpha=.7, \r\n",
    "        linestyle='--')\r\n",
    "\r\n",
    "ax.bar(tabela_internados_datas['data_sint'],\r\n",
    "       tabela_internados_datas['internados_dia'],\r\n",
    "       color='dimgrey', \r\n",
    "       alpha=.3)\r\n",
    "\r\n",
    "#amarelo por cima até três semanas antes\r\n",
    "\r\n",
    "ax.plot(tabela_incompleta_tres_semanas['data_sint'],\r\n",
    "        tabela_incompleta_tres_semanas['media_movel_internados'],\r\n",
    "        color='darkorange',\r\n",
    "        alpha=1)\r\n",
    "\r\n",
    "ax.bar(tabela_incompleta_tres_semanas['data_sint'],\r\n",
    "       tabela_incompleta_tres_semanas['internados_dia'],\r\n",
    "       color='darkorange', \r\n",
    "       alpha=.3)\r\n",
    "\r\n",
    "ax.set_ylim(0, tabela_internados_datas['internados_dia'].max())\r\n",
    "ax.set_xlim(left=tabela_internados_datas['data_sint'].min(), right=tabela_internados_datas['data_sint'].max())\r\n",
    "\r\n",
    "\r\n",
    "ax.set_ylabel(\"Novas internações\")\r\n",
    "\r\n",
    "ax.set_xlabel(\"\\nFonte: Sivep/OpenDataSUS. Análise: Cristiano Martins / @coronavirus_mg\", color='grey', size=10)\r\n",
    "\r\n",
    "ax.set_title(\"INTERNAÇÕES POR COVID-19 EM MINAS GERAIS\\n(média móvel de sete dias, por data dos primeiros sintomas)\")\r\n",
    "\r\n",
    "ax.annotate('      '+INTERNADOS_MEDIA21, \r\n",
    "            xy = (pd.Timestamp(data_tres_semanas_atras), internados_media21-20),\r\n",
    "            size = 16,\r\n",
    "            weight ='bold')\r\n",
    "\r\n",
    "\r\n",
    "ax.annotate('*Atraso\\nmédio nas\\nnotificações', \r\n",
    "            xy = (pd.Timestamp(internados_data_recente - datetime.timedelta(days=90)), tabela_incompleta_tres_semanas['media_movel_internados'].max()),\r\n",
    "            size = 10, \r\n",
    "            horizontalalignment='center')\r\n",
    "\r\n",
    "\r\n",
    "#ax.annotate('       '+OBITOS_VAR, \r\n",
    "#            xy = (pd.Timestamp(date.today()), obitos_media - 30),#-1300),\r\n",
    "#            size = 13, \r\n",
    "#            color = cor_obitos)\r\n",
    "\r\n",
    "ax.axhline(y = internados_media21, color = 'grey', linestyle = 'dotted')\r\n",
    "ax.axhline(y = 0, color = 'grey', linestyle = '-')\r\n",
    "\r\n",
    "#ax.axvline(x = data_tres_semanas_atras, color = 'grey', linestyle = 'dashed')\r\n",
    "ax.axvspan(data_tres_semanas_atras, internados_data_recente, color='dimgrey', alpha=0.1)\r\n",
    "\r\n",
    "\r\n",
    "#ax.text(0.5, -0.15, 'Fonte: SES-MG. Análise: Cristiano Martins / @coronavirus_mg', color='grey', size=11, horizontalalignment='center', verticalalignment='center', transform=ax.transAxes)\r\n",
    "\r\n",
    "fig.set_size_inches([16/2,9/2])\r\n",
    "\r\n",
    "fig.savefig('grafico_media_internações.png', dpi = 300)"
   ],
   "outputs": [],
   "metadata": {}
  },
  {
   "cell_type": "markdown",
   "source": [
    "#### Gráfico das letalidades proporcionais"
   ],
   "metadata": {}
  },
  {
   "cell_type": "code",
   "execution_count": null,
   "source": [
    "pct_de_contaminados_total = [100-letalidade, 100-letalidade_internados, 100-letalidade_internados_UTI]\r\n",
    "taxas_pct_letalidade = [letalidade, letalidade_internados, letalidade_internados_UTI]\r\n",
    "categoria_letalidade = ['Geral', 'Internados', 'UTIs']\r\n",
    "\r\n",
    "dados_grafico_letalidade = pd.DataFrame({'taxas_pct_letalidade': taxas_pct_letalidade, \r\n",
    "                                         'pct_de_contaminados_total': pct_de_contaminados_total}, \r\n",
    "                                        index=categoria_letalidade)"
   ],
   "outputs": [],
   "metadata": {}
  },
  {
   "cell_type": "code",
   "execution_count": null,
   "source": [
    "#import matplotlib.pyplot as plt\r\n",
    "\r\n",
    "plt.style.use('default')\r\n",
    "\r\n",
    "fig, ax = plt.subplots()\r\n",
    "\r\n",
    "ax.set_title('LETALIDADE DA COVID-19 EM MINAS GERAIS', pad=10, size=10, loc='center')\r\n",
    "\r\n",
    "ax.barh(categoria_letalidade, 100, color='lightgrey')\r\n",
    "ax.barh(categoria_letalidade, taxas_pct_letalidade, color='indianred')\r\n",
    "\r\n",
    "ax.set_xlabel(\"Fonte: Sivep/OpenDataSUS e SES-MG  •  Análise: Cristiano Martins/@coronavirus_mg\", labelpad=9, color= 'grey', size=9)\r\n",
    "ax.set_xticks([0,25,50,75,100])\r\n",
    "ax.set_xticklabels(['0%','25%','50%','75%','100%'], fontsize=9)\r\n",
    "ax.xaxis.label.set_color('grey')\r\n",
    "ax.tick_params(axis='x', colors='grey', size=5)\r\n",
    "ax.tick_params(axis='y', length=0)\r\n",
    "\r\n",
    "ax.spines['right'].set_visible(False)\r\n",
    "ax.spines['top'].set_visible(False)\r\n",
    "ax.spines['left'].set_visible(False)\r\n",
    "ax.spines['bottom'].set_visible(True)\r\n",
    "ax.spines['bottom'].set_color('grey')\r\n",
    "\r\n",
    "for i, v in enumerate(taxas_pct_letalidade):\r\n",
    "    ax.text(v+1.5, i-.05, str(v.round(1))+'%', color='indianred', fontweight='bold')\r\n",
    "    \r\n",
    "fig.set_size_inches([16/2,9/2])\r\n",
    "\r\n",
    "#ax.text(0.47, -0.3, 'Fonte: Sivep/OpenDataSUS e SES-MG. Análise: Cristiano Martins / @coronavirus_mg\\n\\n\\n\\n', color='grey', size=9, horizontalalignment='center', verticalalignment='center', transform=ax.transAxes)\r\n",
    "\r\n",
    "fig.savefig('grafico_letalidade.png', dpi = 300)"
   ],
   "outputs": [],
   "metadata": {}
  },
  {
   "cell_type": "markdown",
   "source": [
    "### Relatório em texto + publicar no Twitter"
   ],
   "metadata": {}
  },
  {
   "cell_type": "code",
   "execution_count": null,
   "source": [
    "templates01 = [\"Minas Gerais registra OBITOS_24H novas mortes por #Covid19 e mais CASOS_24H casos confirmados da doença nDIA_DA_SEMANA.\\n\\nTotal no Estado chega a OBITOS_TOTAL óbitos, com CASOS_TOTAL pessoas infectadas desde o início da pandemia.\\n\\nFonte: @saudemg\\n\\n#coronavirus #mg #boletim\", \r\n",
    "               \"Mais OBITOS_24H mortes por #Covid19 foram confirmadas nDIA_DA_SEMANA em Minas. Com isso, Estado já registra OBITOS_TOTAL vítimas desde o início da pandemia.\\n\\nNúmero de infectados aumentou em CASOS_24H nas últimas 24h e chega a CASOS_TOTAL.\\n\\nFonte: @saudemg\\n\\n#coronavirus #mg #boletim\", \r\n",
    "               \"Número de vítimas da #Covid19 em Minas Gerais chega a OBITOS_TOTAL nDIA_DA_SEMANA, com OBITOS_24H novas mortes confirmadas desde ontem.\\n\\nForam registrados também mais CASOS_24H casos, elevando o total para CASOS_TOTAL infectados no Estado.\\n\\nFonte: @saudemg\\n\\n#coronavirus #mg #boletim\", \r\n",
    "               \"Minas Gerais confirmou mais OBITOS_24H mortes e CASOS_24H novos casos de #Covid19 nDIA_DA_SEMANA.\\n\\nAté agora, OBITOS_TOTAL pessoas morreram e CASOS_TOTAL foram infectadas pelo novo #coronavírus no Estado.\\n\\nFonte: @saudemg\\n\\n#mg #boletim\", \r\n",
    "               \"Mais OBITOS_24H mortes por #Covid19 e CASOS_24H novos casos da doença foram confirmados nDIA_DA_SEMANA em Minas Gerais.\\n\\nCom a atualização, Estado registra ao todo OBITOS_TOTAL vítimas e CASOS_TOTAL pessoas infectadas.\\n\\nFonte: @saudemg\\n\\n#coronavirus #mg #boletim\", \r\n",
    "               \"Minas Gerais registra OBITOS_24H novas mortes por #Covid19 nDIA_DA_SEMANA. Ao todo, doença já matou OBITOS_TOTAL mineiros.\\n\\nTambém foram confirmados CASOS_24H novos casos, e total de infectados chega a CASOS_TOTAL no Estado.\\n\\nFonte: @saudemg\\n\\n#coronavirus #mg #boletim\", \r\n",
    "               \"Nas últimas 24 horas, Minas Gerais confirmou mais OBITOS_24H óbitos e CASOS_24H habitantes diagnosticados com #Covid19.\\n\\nTotais no Estado chegam a OBITOS_TOTAL vítimas e CASOS_TOTAL casos nDIA_DA_SEMANA.\\n\\nFonte: @saudemg\\n\\n#coronavirus #mg #boletim\", \r\n",
    "               \"De ontem para hoje, foram registrados mais OBITOS_24H óbitos por #Covid19 e CASOS_24H novos diagnósticos da doença em Minas.\\n\\nNovo #coronavírus já ceifou OBITOS_TOTAL vidas e infectou CASOS_TOTAL residentes no Estado até DIA_DA_SEMANA.\\n\\nFonte: @saudemg\\n\\n#mg #boletim\", \r\n",
    "               \"Total de vidas perdidas para a #Covid19 em Minas chega a OBITOS_TOTAL, com mais OBITOS_24H mortes registradas nDIA_DA_SEMANA.\\n\\nTambém foram confirmados CASOS_24H novos casos, totalizando CASOS_TOTAL mineiros infectados pelo novo #coronavírus.\\n\\nFonte: @saudemg\\n\\n#mg #boletim\", \r\n",
    "               \"Mais OBITOS_24H óbitos e CASOS_24H novos casos de #Covid19 foram confirmados em Minas nDIA_DA_SEMANA.\\n\\nEstado já contabiliza ao todo OBITOS_TOTAL mortes e CASOS_TOTAL pessoas infectadas pelo novo #coronavírus desde o início da pandemia.\\n\\nFonte: @saudemg\\n\\n#mg #boletim\"\r\n",
    "              ]"
   ],
   "outputs": [],
   "metadata": {}
  },
  {
   "cell_type": "code",
   "execution_count": null,
   "source": [
    "from random import randint\r\n",
    "\r\n",
    "# selecionar aleatoriamente um índice entre 0 e 9 (lista tem 10 índices)\r\n",
    "indice = randint(0, 9)\r\n",
    "# selecionar o template no índice especificado\r\n",
    "template_selecionado01 = templates01[indice]"
   ],
   "outputs": [],
   "metadata": {}
  },
  {
   "cell_type": "code",
   "execution_count": null,
   "source": [
    "template_selecionado01 = str(template_selecionado01\\\r\n",
    "                           .replace('OBITOS_24H', OBITOS_24H)\r\n",
    "                           .replace('DIA_DA_SEMANA', DIA_DA_SEMANA)\r\n",
    "                           .replace('OBITOS_TOTAL', OBITOS_TOTAL)\r\n",
    "                           .replace('CASOS_24H', CASOS_24H)\r\n",
    "                           .replace('CASOS_TOTAL', CASOS_TOTAL))\r\n",
    "\r\n",
    "print(template_selecionado01)\r\n",
    "len(template_selecionado01) < 280"
   ],
   "outputs": [],
   "metadata": {}
  },
  {
   "cell_type": "markdown",
   "source": [
    "### Publicar no Twitter"
   ],
   "metadata": {}
  },
  {
   "cell_type": "code",
   "execution_count": null,
   "source": [
    "import twitter\r\n",
    "\r\n",
    "#Inserir chaves credenciais da API do Twitter\r\n",
    "\r\n",
    "api = twitter.Api(consumer_key=\" \",\r\n",
    "                  consumer_secret=\" \",\r\n",
    "                  access_token_key=\" \",\r\n",
    "                  access_token_secret=\" \")"
   ],
   "outputs": [],
   "metadata": {}
  },
  {
   "cell_type": "code",
   "execution_count": null,
   "source": [
    "#if tabela_obitos.index[-1] != pd.Timestamp(data_de_hoje) and tabela_confirmados.index[-1] != pd.Timestamp(data_de_hoje):\r\n",
    "if boletim_atualizado == False:  \r\n",
    "    mensagem_erro = \"😕 Infelizmente, parece que a @SaudeMG não atualizou os microdados da #Covid19 em Minas Gerais n\"+DIA_DA_SEMANA+\".\"+\"\\n\\nAssim que possível, nosso bot fará a atualização do boletim.\\n\\n#coronavirus #mg #boletim\" \r\n",
    "    tweet = api.PostUpdate(mensagem_erro)\r\n",
    "else:\r\n",
    "    tweet = api.PostUpdate(template_selecionado01)"
   ],
   "outputs": [],
   "metadata": {}
  },
  {
   "cell_type": "markdown",
   "source": [
    "#### Média móvel de mortes + gráfico de mortes"
   ],
   "metadata": {}
  },
  {
   "cell_type": "code",
   "execution_count": null,
   "source": [
    "template_media_obitos = 'A média móvel de óbitos por #Covid19 em Minas Gerais encontra-se na casa das OBITOS_MEDIA novas mortes por dia.\\n\\nA variação registrada nDIA_DA_SEMANA é de OBITOS_VAR na comparação com duas semanas atrás, ou seja, OBITOS_VAR_STATUS.\\n\\n#coronavirus #mg #boletim'"
   ],
   "outputs": [],
   "metadata": {}
  },
  {
   "cell_type": "code",
   "execution_count": null,
   "source": [
    "template_media_obitos = str(template_media_obitos\\\r\n",
    "                           .replace('OBITOS_MEDIA', OBITOS_MEDIA)\r\n",
    "                           .replace('OBITOS_VAR_STATUS', OBITOS_VAR_STATUS)\r\n",
    "                           .replace('OBITOS_VAR', OBITOS_VAR)\r\n",
    "                           .replace('DIA_DA_SEMANA', DIA_DA_SEMANA))\r\n",
    "\r\n",
    "print(template_media_obitos)\r\n",
    "len(template_media_obitos) < 280"
   ],
   "outputs": [],
   "metadata": {}
  },
  {
   "cell_type": "code",
   "execution_count": null,
   "source": [
    "if tabela_obitos.index[-1] != pd.Timestamp(data_de_hoje) and tabela_confirmados.index[-1] != pd.Timestamp(data_de_hoje):\r\n",
    "    print(\"Status não foi atualizado\")\r\n",
    "else:\r\n",
    "    tweet = api.PostUpdate(template_media_obitos,'grafico_media_obitos.png', in_reply_to_status_id=tweet.id)"
   ],
   "outputs": [],
   "metadata": {}
  },
  {
   "cell_type": "markdown",
   "source": [
    "#### Média móvel de casos + gráfico de casos"
   ],
   "metadata": {}
  },
  {
   "cell_type": "code",
   "execution_count": null,
   "source": [
    "template_media_casos = 'A média móvel dos casos confirmados de #Covid19 em Minas Gerais está em CASOS_MEDIA novos diagnósticos por dia.\\n\\nA variação observada nDIA_DA_SEMANA é de CASOS_VAR em relação a duas semanas atrás, isto é, CASOS_VAR_STATUS.\\n\\n#coronavirus #mg #boletim'"
   ],
   "outputs": [],
   "metadata": {}
  },
  {
   "cell_type": "code",
   "execution_count": null,
   "source": [
    "template_media_casos = str(template_media_casos\\\r\n",
    "                           .replace('CASOS_MEDIA', CASOS_MEDIA)\r\n",
    "                           .replace('CASOS_VAR_STATUS', CASOS_VAR_STATUS)\r\n",
    "                           .replace('CASOS_VAR', CASOS_VAR)\r\n",
    "                           .replace('DIA_DA_SEMANA', DIA_DA_SEMANA))\r\n",
    "\r\n",
    "print(template_media_casos)\r\n",
    "len(template_media_casos) < 280"
   ],
   "outputs": [],
   "metadata": {}
  },
  {
   "cell_type": "code",
   "execution_count": null,
   "source": [
    "if tabela_obitos.index[-1] != pd.Timestamp(data_de_hoje) and tabela_confirmados.index[-1] != pd.Timestamp(data_de_hoje): \r\n",
    "    print(\"Status não foi atualizado\")\r\n",
    "else:\r\n",
    "    tweet = api.PostUpdate(template_media_casos,'grafico_media_casos.png', in_reply_to_status_id=tweet.id)"
   ],
   "outputs": [],
   "metadata": {}
  },
  {
   "cell_type": "markdown",
   "source": [
    "#### Recuperados, ativos e gráfico de casos ativos"
   ],
   "metadata": {}
  },
  {
   "cell_type": "code",
   "execution_count": null,
   "source": [
    "template_ativos = f'Dos {CASOS_TOTAL} mineiros infectados:\\n\\n- {RECUPERADOS_TOTAL} se recuperaram ou não desenvolveram a doença;\\n- {OBITOS_TOTAL} vieram a óbito;\\n- {ATIVOS_ATUAL} estão neste momento internados ou em observação.\\n\\n#coronavirus #covid19 #mg #boletim'"
   ],
   "outputs": [],
   "metadata": {}
  },
  {
   "cell_type": "code",
   "execution_count": null,
   "source": [
    "print(template_ativos)\r\n",
    "len(template_ativos) < 280"
   ],
   "outputs": [],
   "metadata": {}
  },
  {
   "cell_type": "code",
   "execution_count": null,
   "source": [
    "if tabela_obitos.index[-1] != pd.Timestamp(data_de_hoje) and tabela_confirmados.index[-1] != pd.Timestamp(data_de_hoje): \r\n",
    "    print(\"Status não foi atualizado\")\r\n",
    "else:\r\n",
    "    tweet = api.PostUpdate(template_ativos,'grafico_ativos.png', in_reply_to_status_id=tweet.id)"
   ],
   "outputs": [],
   "metadata": {}
  },
  {
   "cell_type": "markdown",
   "source": [
    "#### Letalidades"
   ],
   "metadata": {}
  },
  {
   "cell_type": "code",
   "execution_count": null,
   "source": [
    "template_letalidade = f'A letalidade (óbitos/casos) do #coronavirus em Minas Gerais é de {LETALIDADE}.\\n\\nEntre os pacientes que desenvolveram a #Covid19 e precisaram de internação, essa taxa sobe para {LETALIDADE_INTERNADOS}.\\n\\nDos que demandaram atendimento em UTIs, {LETALIDADE_INTERNADOS_UTI} não saíram com vida.\\n\\n#mg #boletim'"
   ],
   "outputs": [],
   "metadata": {}
  },
  {
   "cell_type": "code",
   "execution_count": null,
   "source": [
    "print(template_letalidade)\r\n",
    "len(template_letalidade) < 280"
   ],
   "outputs": [],
   "metadata": {}
  },
  {
   "cell_type": "code",
   "execution_count": null,
   "source": [
    "if tabela_obitos.index[-1] != pd.Timestamp(data_de_hoje) and tabela_confirmados.index[-1] != pd.Timestamp(data_de_hoje): \r\n",
    "    print(\"Status não foi atualizado\")\r\n",
    "else:\r\n",
    "    tweet = api.PostUpdate(template_letalidade, 'grafico_letalidade.png', in_reply_to_status_id=tweet.id)"
   ],
   "outputs": [],
   "metadata": {}
  },
  {
   "cell_type": "markdown",
   "source": [
    "## PARTE 2 - Dados da vacinação"
   ],
   "metadata": {}
  },
  {
   "cell_type": "markdown",
   "source": [
    "### Baixar arquivo do Vacinômetro da SES-MG\r\n",
    "### Esse arquivo tem duas peculiaridades:\r\n",
    "### 1) normalmente, só é atualizado de segunda a sexta-feira;\r\n",
    "### 2) os dados são registrados no dia anterior ao boletim. Exemplo: os dados publicados no boletim de 25/08/2021 são os dados inseridos até 24/08/2021, diferentemente do que acontece no arquivo dos casos e óbitos.\r\n",
    "### OBS: Por essas duas razões, os dados do boletim de segunda-feira se referem aos registros da sexta-feira anterior.\r\n"
   ],
   "metadata": {}
  },
  {
   "cell_type": "code",
   "execution_count": null,
   "source": [
    "vacinas_atualizadas = False\r\n",
    "vacinas_segue_para_analise = False\r\n",
    "contador_vacinas = 1\r\n",
    "\r\n",
    "while vacinas_segue_para_analise == False:\r\n",
    "    \r\n",
    "    #baixar o arquivo\r\n",
    "    wget.download('http://sescloud.saude.mg.gov.br/index.php/s/ZEzzC8jFpobXGjM/download?path=%2FVACINAS&files=XLSX_Vacinas.xlsx', \r\n",
    "                  'vacinas.xlsx')\r\n",
    "    \r\n",
    "    #ler o arquivo\r\n",
    "    vacinas = pd.ExcelFile('vacinas.xlsx')\r\n",
    "    lista_abas = []\r\n",
    "    for aba in vacinas.sheet_names:\r\n",
    "        abas = vacinas.parse(aba)\r\n",
    "        lista_abas.append(abas)\r\n",
    "    df = pd.concat(lista_abas)\r\n",
    "        \r\n",
    "    #checar se a data está atualizada, lembrando que os dados são do dia anterior\r\n",
    "    #(às segundas-feiras, dados costumam entram como sendo da sexta anterior)\r\n",
    "    \r\n",
    "    data_vacinas_ok = None\r\n",
    "    \r\n",
    "    if pd.Timestamp(data_de_hoje).day_name() == \"Monday\":\r\n",
    "        if datetime.datetime.date(df['Data'].max()) == (datetime.date.today() - datetime.timedelta(days=1)): \r\n",
    "            data_vacinas_ok = True\r\n",
    "        elif datetime.datetime.date(df['Data'].max()) == (datetime.date.today() - datetime.timedelta(days=3)): \r\n",
    "            data_vacinas_ok = True \r\n",
    "        else: \r\n",
    "            data_vacinas_ok = False\r\n",
    "    else: \r\n",
    "        if datetime.datetime.date(df['Data'].max()) == (datetime.date.today() - datetime.timedelta(days=1)): \r\n",
    "            data_vacinas_ok = True \r\n",
    "        else: \r\n",
    "            data_vacinas_ok = False\r\n",
    "            \r\n",
    "    #Se estiver atualizado, quebra o while\r\n",
    "    \r\n",
    "    if data_vacinas_ok == True:\r\n",
    "        print('\\nArquivo das vacinas está atualizado. Pode seguir para a análise.\\n')\r\n",
    "        vacinas_atualizadas = True\r\n",
    "        vacinas_segue_para_analise = True\r\n",
    "    \r\n",
    "    #Se não estiver atualizado, apaga o arquivo e refaz o processo 10 vezes dando um intervalo de 15 minutos entre as tentativas\r\n",
    "        \r\n",
    "    else: \r\n",
    "        if contador_vacinas < 10: \r\n",
    "            os.remove('vacinas.xlsx')\r\n",
    "            print(f'\\nTentativa {contador_vacinas} fracassada. Tentar novamente em 15 minutos.\\n') \r\n",
    "            contador_vacinas += 1\r\n",
    "            time.sleep(900)\r\n",
    "    \r\n",
    "    #Se não estiver atualizado e falhar as 10 vezes, avisa que não atualizou e segue.\r\n",
    "    #Na hora de tuitar, se o arquivo do boletim não estiver atualizado, vai tuitar uma mensagem de erro.\r\n",
    "        \r\n",
    "        else: \r\n",
    "            print('\\nO arquivo das vacinas não foi atualizado, mas a vida precisa seguir adiante\\n')\r\n",
    "            vacinas_atualizadas = False\r\n",
    "            vacinas_segue_para_analise = True"
   ],
   "outputs": [],
   "metadata": {}
  },
  {
   "cell_type": "code",
   "execution_count": null,
   "source": [
    "df.tail(5)"
   ],
   "outputs": [],
   "metadata": {}
  },
  {
   "cell_type": "code",
   "execution_count": null,
   "source": [
    "tabela_vacinas = df.groupby(['Data','Dose'],as_index = False)['Doses Aplicadas'].sum().pivot(index='Data',columns='Dose',values='Doses Aplicadas').reset_index().rename_axis(None)\r\n",
    "\r\n",
    "tabela_vacinas['DOSE UNICA_total'] = tabela_vacinas['DOSE UNICA'].cumsum()\r\n",
    "tabela_vacinas['PRIMEIRA DOSE_total'] = tabela_vacinas['PRIMEIRA DOSE'].cumsum()\r\n",
    "tabela_vacinas['SEGUNDA DOSE_total'] = tabela_vacinas['SEGUNDA DOSE'].cumsum()\r\n",
    "\r\n",
    "tabela_vacinas['D2/DU'] = tabela_vacinas['DOSE UNICA'] + tabela_vacinas['SEGUNDA DOSE']\r\n",
    "tabela_vacinas['D2/DU_total'] = tabela_vacinas['DOSE UNICA_total'] + tabela_vacinas['SEGUNDA DOSE_total']\r\n",
    "\r\n",
    "tabela_vacinas = tabela_vacinas.drop([\"DOSE UNICA\", \"SEGUNDA DOSE\", \"DOSE UNICA_total\", \"SEGUNDA DOSE_total\"], axis=1)\r\n",
    "\r\n",
    "tabela_vacinas['media_movel_d1'] = tabela_vacinas['PRIMEIRA DOSE'].rolling(7).mean().round(1)\r\n",
    "tabela_vacinas['media_movel_d2du'] = tabela_vacinas['D2/DU'].rolling(7).mean().round(1)\r\n",
    "\r\n",
    "tabela_vacinas = tabela_vacinas.rename(columns={'PRIMEIRA DOSE': 'd1_dia', \r\n",
    "                                                'PRIMEIRA DOSE_total': 'd1_total', \r\n",
    "                                                'D2/DU' : 'd2du_dia', \r\n",
    "                                                'D2/DU_total' : 'd2du_total'})"
   ],
   "outputs": [],
   "metadata": {}
  },
  {
   "cell_type": "code",
   "execution_count": null,
   "source": [
    "tabela_vacinas.tail(10)"
   ],
   "outputs": [],
   "metadata": {}
  },
  {
   "cell_type": "code",
   "execution_count": null,
   "source": [
    "d1 = tabela_vacinas.iloc[-1,2].astype(int)\r\n",
    "d2du = tabela_vacinas.iloc[-1,4].astype(int)\r\n",
    "media_d1 = tabela_vacinas.iloc[-1,5].astype(int)\r\n",
    "media_d2du = tabela_vacinas.iloc[-1,6].astype(int)\r\n",
    "print('d1:',d1)\r\n",
    "print('d2du:',d2du)\r\n",
    "print('media_d1:',media_d1)\r\n",
    "print('media_d2du:',media_d2du)"
   ],
   "outputs": [],
   "metadata": {}
  },
  {
   "cell_type": "code",
   "execution_count": null,
   "source": [
    "D1 = str('{0:,}'.format(d1).replace(',','.'))\r\n",
    "D2DU = str('{0:,}'.format(d2du).replace(',','.'))\r\n",
    "print('D1:',D1)\r\n",
    "print('D2DU:',D2DU)"
   ],
   "outputs": [],
   "metadata": {}
  },
  {
   "cell_type": "code",
   "execution_count": null,
   "source": [
    "pop_total = 21411923\r\n",
    "pop_adulta = 16508000"
   ],
   "outputs": [],
   "metadata": {}
  },
  {
   "cell_type": "code",
   "execution_count": null,
   "source": [
    "pop_total_imunizada = ((d2du*100)/pop_total).round(1)\r\n",
    "print('pop_total_imunizada:', pop_total_imunizada)\r\n",
    "\r\n",
    "pop_total_d1 = ((d1*100)/pop_total).round(1)\r\n",
    "print('pop_total_d1:', pop_total_d1)\r\n",
    "\r\n",
    "pop_total_semvacina = (100-pop_total_d1).round(1)\r\n",
    "print('pop_total_semvacina:', pop_total_semvacina)\r\n",
    "\r\n",
    "pop_total_parcial = (pop_total_d1 - pop_total_imunizada).round(1)\r\n",
    "print('pop_total_parcial:', pop_total_parcial)\r\n",
    "\r\n",
    "POP_TOTAL_IMUNIZADA = str('{0:,}'.format(pop_total_imunizada).replace('.',',')) + '%'\r\n",
    "print('POP_TOTAL_IMUNIZADA:',POP_TOTAL_IMUNIZADA)\r\n",
    "\r\n",
    "POP_TOTAL_D1 = str('{0:,}'.format(pop_total_d1).replace('.',',')) + '%'\r\n",
    "print('POP_TOTAL_D1:',POP_TOTAL_D1)\r\n",
    "\r\n",
    "POP_TOTAL_SEMVACINA = str('{0:,}'.format(pop_total_semvacina).replace('.',',')) + '%'\r\n",
    "print('POP_TOTAL_SEMVACINA:',POP_TOTAL_SEMVACINA)\r\n",
    "\r\n",
    "POP_TOTAL_PARCIAL = str('{0:,}'.format(pop_total_parcial).replace('.',',')) + '%'\r\n",
    "print('POP_TOTAL_PARCIAL:',POP_TOTAL_PARCIAL)\r\n"
   ],
   "outputs": [],
   "metadata": {}
  },
  {
   "cell_type": "code",
   "execution_count": null,
   "source": [
    "pop_adulta_imunizada = ((d2du*100)/pop_adulta).round(1)\r\n",
    "print('pop_adulta_imunizada:', pop_adulta_imunizada)\r\n",
    "\r\n",
    "pop_adulta_d1 = ((d1*100)/pop_adulta).round(1)\r\n",
    "print('pop_adulta_d1:', pop_adulta_d1)\r\n",
    "\r\n",
    "pop_adulta_semvacina = (100-pop_adulta_d1).round(1)\r\n",
    "print('pop_adulta_semvacina:', pop_adulta_semvacina)\r\n",
    "\r\n",
    "pop_adulta_parcial = (pop_adulta_d1 - pop_adulta_imunizada).round(1)\r\n",
    "print('pop_adulta_parcial:', pop_adulta_parcial)\r\n",
    "\r\n",
    "POP_ADULTA_IMUNIZADA = str('{0:,}'.format(pop_adulta_imunizada).replace('.',',')) + '%'\r\n",
    "print('POP_ADULTA_IMUNIZADA:',POP_ADULTA_IMUNIZADA)\r\n",
    "\r\n",
    "POP_ADULTA_D1 = str('{0:,}'.format(pop_adulta_d1).replace('.',',')) + '%'\r\n",
    "print('POP_ADULTA_D1:',POP_ADULTA_D1)\r\n",
    "\r\n",
    "POP_ADULTA_SEMVACINA = str('{0:,}'.format(pop_adulta_semvacina).replace('.',',')) + '%'\r\n",
    "print('POP_ADULTA_SEMVACINA:',POP_ADULTA_SEMVACINA)\r\n",
    "\r\n",
    "POP_ADULTA_PARCIAL = str('{0:,}'.format(pop_adulta_parcial).replace('.',',')) + '%'\r\n",
    "print('POP_ADULTA_PARCIAL:',POP_ADULTA_PARCIAL)\r\n"
   ],
   "outputs": [],
   "metadata": {}
  },
  {
   "cell_type": "markdown",
   "source": [
    "#### Gráfico da cobertura vacinal"
   ],
   "metadata": {}
  },
  {
   "cell_type": "code",
   "execution_count": null,
   "source": [
    "categoria_vacina = ['Pop. Total  ', 'Pop. Adulta  ']\r\n",
    "camada1 = [pop_total_imunizada, pop_adulta_imunizada]\r\n",
    "camada2 = [pop_total_d1, pop_adulta_d1]"
   ],
   "outputs": [],
   "metadata": {}
  },
  {
   "cell_type": "code",
   "execution_count": null,
   "source": [
    "plt.style.use('default')\r\n",
    "\r\n",
    "fig, ax = plt.subplots()\r\n",
    "\r\n",
    "ax.set_title('COBERTURA VACINAL CONTRA A COVID-19 EM MINAS GERAIS', pad=10, size=10, loc='center')\r\n",
    "\r\n",
    "ax.barh(categoria_vacina, 100, color='lightgrey', alpha=0.8)\r\n",
    "ax.barh(categoria_vacina, camada2, color='mediumaquamarine', alpha=0.8)\r\n",
    "ax.barh(categoria_vacina, camada1, color='seagreen', alpha=0.8)\r\n",
    "\r\n",
    "ax.set_xlabel('Fonte: SES-MG/Prefeituras e IBGE  •  Análise: Cristiano Martins / @coronavirus_mg', labelpad=10, color= 'grey', size=8)\r\n",
    "ax.set_xticks([0,20,40,60,80,100])\r\n",
    "ax.set_xticklabels(['0%','20%','40%','60%','80%','100%'], fontsize=9)\r\n",
    "ax.xaxis.label.set_color('grey')\r\n",
    "ax.tick_params(axis='x', colors='grey', size=5)\r\n",
    "ax.tick_params(axis='y', length=0)\r\n",
    "\r\n",
    "ax.spines['right'].set_visible(False)\r\n",
    "ax.spines['top'].set_visible(False)\r\n",
    "ax.spines['left'].set_visible(False)\r\n",
    "ax.spines['bottom'].set_visible(True)\r\n",
    "ax.spines['bottom'].set_color('grey')\r\n",
    "\r\n",
    "for i, v in enumerate(camada1): \r\n",
    "    ax.text(v-12, i-.03, str(v.round(1))+'%', color='white', fontweight='bold')\r\n",
    "    \r\n",
    "for i, v in enumerate(camada2): \r\n",
    "    ax.text(v-12, i-.03, str(v.round(1))+'%', color='white', fontweight='bold')    \r\n",
    "\r\n",
    "fig.set_size_inches([16/2,9/2])\r\n",
    "\r\n",
    "#ax.text(0.47, -0.2, 'Fonte: Sivep/OpenDataSUS e SES-MG. Análise: Cristiano Martins / @coronavirus_mg', color='grey', size=9, horizontalalignment='center', verticalalignment='center', transform=ax.transAxes)\r\n",
    "\r\n",
    "\r\n",
    "fig.savefig('grafico_vacina.png', \r\n",
    "            dpi = 300)"
   ],
   "outputs": [],
   "metadata": {}
  },
  {
   "cell_type": "code",
   "execution_count": null,
   "source": [
    "template_cobertura_vacina = f'Até agora, a vacinação contra a #Covid19 em Minas alcançou {D1} pessoas com a primeira dose e {D2DU} com a segunda/única.\\n\\nIsso representa {POP_TOTAL_IMUNIZADA} da população totalmente imunizada no Estado.\\n\\n#coronavirus #mg #boletim'"
   ],
   "outputs": [],
   "metadata": {}
  },
  {
   "cell_type": "code",
   "execution_count": null,
   "source": [
    "print(template_cobertura_vacina)\r\n",
    "len(template_cobertura_vacina) < 280"
   ],
   "outputs": [],
   "metadata": {}
  },
  {
   "cell_type": "code",
   "execution_count": null,
   "source": [
    "vacinas_atualizadas"
   ],
   "outputs": [],
   "metadata": {}
  },
  {
   "cell_type": "code",
   "execution_count": null,
   "source": [
    "mensagem_erro_vacinas = \"😕 Infelizmente, parece que a @SaudeMG não atualizou os microdados da vacinação contra a Covid-19 em Minas Gerais n\"+DIA_DA_SEMANA+\".\"+\"\\n\\nAssim que possível, faremos a atualização do nosso relatório.\\n\\n#coronavirus #mg #boletim\"\r\n",
    "print(mensagem_erro_vacinas)"
   ],
   "outputs": [],
   "metadata": {}
  },
  {
   "cell_type": "code",
   "execution_count": null,
   "source": [
    "#if tabela_obitos.index[-1] != pd.Timestamp(data_de_hoje) and tabela_confirmados.index[-1] != pd.Timestamp(data_de_hoje):\r\n",
    "if vacinas_atualizadas == False:\r\n",
    "    tweet = api.PostUpdate(mensagem_erro_vacinas, in_reply_to_status_id = tweet.id)\r\n",
    "else: \r\n",
    "    tweet = api.PostUpdate(template_cobertura_vacina,'grafico_vacina.png', in_reply_to_status_id = tweet.id)"
   ],
   "outputs": [],
   "metadata": {}
  },
  {
   "cell_type": "markdown",
   "source": [
    "#### Ao final de todo o processo, renomear os arquixos e guardá-los em uma pasta de arquivo"
   ],
   "metadata": {}
  },
  {
   "cell_type": "code",
   "execution_count": null,
   "source": [
    "import os\r\n",
    "import glob\r\n",
    "import re\r\n",
    "import shutil"
   ],
   "outputs": [],
   "metadata": {}
  },
  {
   "cell_type": "code",
   "execution_count": null,
   "source": [
    "lista_arquivos = glob.glob('*.[px]*')\r\n",
    "lista_arquivos"
   ],
   "outputs": [],
   "metadata": {}
  },
  {
   "cell_type": "code",
   "execution_count": null,
   "source": [
    "for nome_arquivo in lista_arquivos: \r\n",
    "    nome_novo = f'{str(date.today())}'+'_'+nome_arquivo\r\n",
    "    os.rename(nome_arquivo, nome_novo)\r\n",
    "    \r\n",
    "print('Os arquivos foram renomeados com sucesso')"
   ],
   "outputs": [],
   "metadata": {}
  },
  {
   "cell_type": "code",
   "execution_count": null,
   "source": [
    "lista_arquivos = glob.glob('*.[px]*')\r\n",
    "lista_arquivos"
   ],
   "outputs": [],
   "metadata": {}
  },
  {
   "cell_type": "code",
   "execution_count": null,
   "source": [
    "for nome_arquivo in lista_arquivos: \r\n",
    "    shutil.move(nome_arquivo, \"arquivo\")\r\n",
    "    \r\n",
    "print('Os arquivos transferidos com sucesso')"
   ],
   "outputs": [],
   "metadata": {}
  },
  {
   "cell_type": "code",
   "execution_count": null,
   "source": [],
   "outputs": [],
   "metadata": {}
  }
 ],
 "metadata": {
  "interpreter": {
   "hash": "e0fbb69b28608df6a73f04a551d28fc8b9a82f9ac1c3562a6cb6fe6a5ff5f1e3"
  },
  "kernelspec": {
   "name": "python3",
   "display_name": "Python 3.8.3 64-bit ('base': conda)"
  },
  "language_info": {
   "codemirror_mode": {
    "name": "ipython",
    "version": 3
   },
   "file_extension": ".py",
   "mimetype": "text/x-python",
   "name": "python",
   "nbconvert_exporter": "python",
   "pygments_lexer": "ipython3",
   "version": "3.8.3"
  }
 },
 "nbformat": 4,
 "nbformat_minor": 4
}
